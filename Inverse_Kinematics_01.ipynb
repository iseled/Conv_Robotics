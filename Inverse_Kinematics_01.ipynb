{
 "cells": [
  {
   "cell_type": "markdown",
   "id": "ef570b80",
   "metadata": {},
   "source": [
    "## Inverse Kinematics\n",
    "### w/o Movement"
   ]
  },
  {
   "cell_type": "code",
   "execution_count": 1,
   "id": "a5244dd9",
   "metadata": {},
   "outputs": [],
   "source": [
    "import numpy as np\n",
    "from time import time\n",
    "import matplotlib.pyplot as plt\n",
    "import matplotlib.animation as animation\n",
    "import math as m\n",
    "from mpl_toolkits.mplot3d import axes3d"
   ]
  },
  {
   "cell_type": "code",
   "execution_count": 12,
   "id": "c64fce07",
   "metadata": {},
   "outputs": [],
   "source": [
    "# Length L1 ~ L3 값을 설정하세요.\n",
    "L1 = 4\n",
    "L2 = 3\n",
    "L3 = 2\n",
    "LMT = L1 + L2 + L3 +1\n",
    "\n",
    "# end effetor의 방향과 위치를 설정\n",
    "phi = 90/180 * np.pi\n",
    "px = 3\n",
    "py = 5"
   ]
  },
  {
   "cell_type": "code",
   "execution_count": 13,
   "id": "f4f867f7",
   "metadata": {},
   "outputs": [],
   "source": [
    "T0H = np.mat([[np.cos(phi), -np.sin(phi), 0, px],\n",
    "             [np.sin(phi), np.cos(phi), 0, py],\n",
    "             [0, 0, 1, 0], \n",
    "             [0, 0, 0, 1]])"
   ]
  },
  {
   "cell_type": "code",
   "execution_count": 14,
   "id": "5f7056d8",
   "metadata": {},
   "outputs": [],
   "source": [
    "# ---- Inverse Kinematics ----\n",
    "\n",
    "T3H = np.mat([[1, 0, 0, L3],\n",
    "            [0, 1, 0, 0],\n",
    "            [0, 0, 1, 0], \n",
    "            [0, 0, 0, 1]])\n",
    "\n",
    "T03 = T0H * np.linalg.inv(T3H)\n",
    "\n",
    "x = T03[0, 3]\n",
    "y = T03[1, 3]\n",
    "c_phi = T03[0, 0]\n",
    "s_phi = T03[1, 0]\n",
    "\n",
    "c2 = (x**2 + y**2 - L1**2 - L2**2) / (2 * L1 * L2)"
   ]
  },
  {
   "cell_type": "code",
   "execution_count": 15,
   "id": "01817dd9",
   "metadata": {},
   "outputs": [],
   "source": [
    "# s2 > 0\n",
    "s2 = m.sqrt(1-c2**2)\n",
    "\n",
    "th2 = m.atan2(s2, c2)\n",
    "\n",
    "k1 = L1 + L2 * c2\n",
    "k2 = L2 * s2\n",
    "\n",
    "K = np.mat([[k1, -k2], [k2, k1]])\n",
    "XY = np.mat([[x], [y]])\n",
    "\n",
    "tmp=K.I*XY\n",
    "\n",
    "c1 = tmp[0, 0]\n",
    "s1 = tmp[1, 0]\n",
    "\n",
    "th1 = m.atan2(s1, c1)\n",
    "\n",
    "phi = m.atan2(s_phi, c_phi)\n",
    "th3 = phi - th1 - th2\n",
    "\n",
    "th1_deg = th1 * 180/np.pi\n",
    "th2_deg = th2 * 180/np.pi\n",
    "th3_deg = th3 * 180/np.pi\n",
    "phi_deg = phi * 180/np.pi"
   ]
  },
  {
   "cell_type": "code",
   "execution_count": 16,
   "id": "5ba07ad2",
   "metadata": {},
   "outputs": [],
   "source": [
    "# ---- Forward Kinematics ----\n",
    "\n",
    "T01 = np.mat([[np.cos(th1), -np.sin(th1), 0, 0],\n",
    "            [np.sin(th1), np.cos(th1), 0, 0],\n",
    "            [0, 0, 1, 0], \n",
    "            [0, 0, 0, 1]])\n",
    "\n",
    "T12 = np.mat([[np.cos(th2), -np.sin(th2), 0, L1],\n",
    "            [np.sin(th2), np.cos(th2), 1, 0],\n",
    "            [0, 0, 0, 0],\n",
    "            [0, 0, 0, 1]])\n",
    "\n",
    "T23 = np.mat([[np.cos(th3), -np.sin(th3), 0, L2],\n",
    "            [np.sin(th3), np.cos(th3), 0, 0],\n",
    "            [0, 0, 1, 0], \n",
    "            [0, 0, 0, 1]])\n",
    "\n",
    "T3H = np.mat([[1, 0, 0, L3],\n",
    "            [0, 1, 0, 0],\n",
    "            [0, 0, 1, 0], \n",
    "            [0, 0, 0, 1]])\n",
    "\n",
    "T02 = T01 * T12\n",
    "T03 = T02 * T23\n",
    "T0H = T03 * T3H\n"
   ]
  },
  {
   "cell_type": "code",
   "execution_count": 17,
   "id": "7f2688eb",
   "metadata": {},
   "outputs": [
    {
     "data": {
      "image/png": "[encoded data removed]",
      "text/plain": [
       "<Figure size 648x648 with 1 Axes>"
      ]
     },
     "metadata": {
      "needs_background": "light"
     },
     "output_type": "display_data"
    }
   ],
   "source": [
    "plt.figure(figsize = (L1+L2+L3,L1+L2+L3))\n",
    "plt.xlim(-LMT, LMT)\n",
    "plt.ylim(-LMT, LMT)\n",
    "plt.plot([T01[0, 3], T02[0, 3]], [T01[1, 3], T02[1, 3]], 'r')\n",
    "plt.plot([T02[0, 3], T03[0, 3]], [T02[1, 3], T03[1, 3]], 'g')\n",
    "plt.plot([T03[0, 3], T0H[0, 3]], [T03[1, 3], T0H[1, 3]], 'b')\n",
    "plt.title(\"Inverse Kinematics\")\n",
    "plt.show()"
   ]
  },
  {
   "cell_type": "code",
   "execution_count": 2,
   "id": "78780e13",
   "metadata": {},
   "outputs": [
    {
     "data": {
      "text/plain": [
       "-2.4492935982947064e-16"
      ]
     },
     "execution_count": 2,
     "metadata": {},
     "output_type": "execute_result"
    }
   ],
   "source": [
    "import numpy as np\n",
    "np.sin(2* np.pi)"
   ]
  },
  {
   "cell_type": "code",
   "execution_count": 3,
   "id": "29507fc1",
   "metadata": {},
   "outputs": [
    {
     "data": {
      "text/plain": [
       "1.5707963267948966"
      ]
     },
     "execution_count": 3,
     "metadata": {},
     "output_type": "execute_result"
    }
   ],
   "source": [
    "90/180*np.pi"
   ]
  },
  {
   "cell_type": "code",
   "execution_count": 5,
   "id": "a5407d7c",
   "metadata": {},
   "outputs": [
    {
     "data": {
      "text/plain": [
       "1.0"
      ]
     },
     "execution_count": 5,
     "metadata": {},
     "output_type": "execute_result"
    }
   ],
   "source": [
    "np.sin(90/180*np.pi)"
   ]
  },
  {
   "cell_type": "code",
   "execution_count": null,
   "id": "2533d95b",
   "metadata": {},
   "outputs": [],
   "source": []
  }
 ],
 "metadata": {
  "kernelspec": {
   "display_name": "Python 3",
   "language": "python",
   "name": "python3"
  },
  "language_info": {
   "codemirror_mode": {
    "name": "ipython",
    "version": 3
   },
   "file_extension": ".py",
   "mimetype": "text/x-python",
   "name": "python",
   "nbconvert_exporter": "python",
   "pygments_lexer": "ipython3",
   "version": "3.8.8"
  }
 },
 "nbformat": 4,
 "nbformat_minor": 5
}

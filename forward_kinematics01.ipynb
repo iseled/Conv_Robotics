{
 "cells": [
  {
   "cell_type": "markdown",
   "id": "fea4149e",
   "metadata": {},
   "source": [
    "## 2Link Manipulator description\n",
    "### No movement in the z-direction"
   ]
  },
  {
   "cell_type": "code",
   "execution_count": 6,
   "id": "a5244dd9",
   "metadata": {},
   "outputs": [],
   "source": [
    "import numpy as np\n",
    "from time import time\n",
    "import matplotlib.pyplot as plt\n",
    "import matplotlib.animation as animation\n",
    "import math as m"
   ]
  },
  {
   "cell_type": "code",
   "execution_count": 7,
   "id": "c64fce07",
   "metadata": {},
   "outputs": [],
   "source": [
    "# Length L1 ~ L3, angle(theta 1 ~ 3) 값을 변경 수정하세요.\n",
    "L1 = 4\n",
    "L2 = 3\n",
    "L3 = 2\n",
    "\n",
    "t1 = 30\n",
    "t2 = 40\n",
    "t3 = 90"
   ]
  },
  {
   "cell_type": "code",
   "execution_count": 8,
   "id": "eddd4cba",
   "metadata": {},
   "outputs": [],
   "source": [
    "LMT = L1 + L2 + L3 + 1\n",
    "th1 = t1/180 * np.pi\n",
    "th2 = t2/180 * np.pi\n",
    "th3 = t3/180 * np.pi"
   ]
  },
  {
   "cell_type": "code",
   "execution_count": 9,
   "id": "c3908835",
   "metadata": {},
   "outputs": [],
   "source": [
    "T01 = np.mat([[np.cos(th1), -np.sin(th1), 0, 0],\n",
    "            [np.sin(th1), np.cos(th1), 0, 0],\n",
    "            [0, 0, 1, 0], \n",
    "            [0, 0, 0, 1]])\n",
    "\n",
    "T12 = np.mat([[np.cos(th2), -np.sin(th2), 0, L1],\n",
    "            [np.sin(th2), np.cos(th2), 0, 0],\n",
    "            [0, 0, 1, 0], \n",
    "            [0, 0, 0, 1]])\n",
    "\n",
    "T23 = np.mat([[np.cos(th3), -np.sin(th3), 0, L2],\n",
    "            [np.sin(th3), np.cos(th3), 0, 0],\n",
    "            [0, 0, 1, 0], \n",
    "            [0, 0, 0, 1]])\n",
    "\n",
    "T3H = np.mat([[1, 0, 0, L3],\n",
    "            [0, 1, 0, 0],\n",
    "            [0, 0, 1, 0], \n",
    "            [0, 0, 0, 1]])\n",
    "\n",
    "T02 = T01 * T12\n",
    "T03 = T02 * T23\n",
    "T0H = T03 * T3H\n"
   ]
  },
  {
   "cell_type": "code",
   "execution_count": 12,
   "id": "f20acbee",
   "metadata": {},
   "outputs": [
    {
     "name": "stdout",
     "output_type": "stream",
     "text": [
      "[0.0, 3.464101615137755] [0.0, 1.9999999999999998]\n",
      "[3.464101615137755, 4.4901620451147615] [1.9999999999999998, 4.819077862357725]\n",
      "[4.4901620451147615, 2.6107768035429446] [4.819077862357725, 5.503118149009063]\n"
     ]
    }
   ],
   "source": [
    "print([T01[0, 3], T02[0, 3]], [T01[1, 3], T02[1, 3]])\n",
    "print([T02[0, 3], T03[0, 3]], [T02[1, 3], T03[1, 3]])\n",
    "print([T03[0, 3], T0H[0, 3]], [T03[1, 3], T0H[1, 3]])"
   ]
  },
  {
   "cell_type": "code",
   "execution_count": 11,
   "id": "3a6b06e9",
   "metadata": {},
   "outputs": [
    {
     "data": {
      "text/plain": [
       "[<matplotlib.lines.Line2D at 0x1f87693a0d0>]"
      ]
     },
     "execution_count": 11,
     "metadata": {},
     "output_type": "execute_result"
    },
    {
     "data": {
      "image/png": "[encoded data removed]",
      "text/plain": [
       "<Figure size 648x648 with 1 Axes>"
      ]
     },
     "metadata": {
      "needs_background": "light"
     },
     "output_type": "display_data"
    }
   ],
   "source": [
    "plt.figure(figsize = (L1+L2+L3,L1+L2+L3))\n",
    "plt.xlim(-LMT, LMT)\n",
    "plt.ylim(-LMT, LMT)\n",
    "plt.plot([T01[0, 3], T02[0, 3]], [T01[1, 3], T02[1, 3]], 'r')\n",
    "plt.plot([T02[0, 3], T03[0, 3]], [T02[1, 3], T03[1, 3]], 'g')\n",
    "plt.plot([T03[0, 3], T0H[0, 3]], [T03[1, 3], T0H[1, 3]], 'b')\n"
   ]
  },
  {
   "cell_type": "code",
   "execution_count": null,
   "id": "8c5e2468",
   "metadata": {},
   "outputs": [],
   "source": []
  }
 ],
 "metadata": {
  "kernelspec": {
   "display_name": "Python 3",
   "language": "python",
   "name": "python3"
  },
  "language_info": {
   "codemirror_mode": {
    "name": "ipython",
    "version": 3
   },
   "file_extension": ".py",
   "mimetype": "text/x-python",
   "name": "python",
   "nbconvert_exporter": "python",
   "pygments_lexer": "ipython3",
   "version": "3.8.8"
  }
 },
 "nbformat": 4,
 "nbformat_minor": 5
}
